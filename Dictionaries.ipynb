{
  "nbformat": 4,
  "nbformat_minor": 0,
  "metadata": {
    "colab": {
      "provenance": [],
      "authorship_tag": "ABX9TyPWrSfcLO7WyZXnBBP7MDHm",
      "include_colab_link": true
    },
    "kernelspec": {
      "name": "python3",
      "display_name": "Python 3"
    },
    "language_info": {
      "name": "python"
    }
  },
  "cells": [
    {
      "cell_type": "markdown",
      "metadata": {
        "id": "view-in-github",
        "colab_type": "text"
      },
      "source": [
        "<a href=\"https://colab.research.google.com/github/aaryyya/Coursera_Python-Practice/blob/main/Dictionaries.ipynb\" target=\"_parent\"><img src=\"https://colab.research.google.com/assets/colab-badge.svg\" alt=\"Open In Colab\"/></a>"
      ]
    },
    {
      "cell_type": "code",
      "execution_count": null,
      "metadata": {
        "id": "0xEKbPxeU9BV"
      },
      "outputs": [],
      "source": [
        "dict_name = {} #Creates an empty dictionary\n",
        "person = { \"name\": \"John\",  \"age\": 30, \"city\": \"New York\"}\n",
        "# Value = dict_name[\"key_name\"]\n",
        "name = person[\"name\"]\n",
        "age = person[\"age\"]\n",
        "print(name)\n",
        "person[\"Country\"] = \"USA\" # A new entry will be created.\n",
        "person[\"city\"] = \"Chicago\"\n",
        "print(person)\n",
        "del person[\"Country\"]"
      ]
    }
  ]
}