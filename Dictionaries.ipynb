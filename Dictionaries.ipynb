{
  "nbformat": 4,
  "nbformat_minor": 0,
  "metadata": {
    "colab": {
      "provenance": [],
      "authorship_tag": "ABX9TyMqOy3q+TzsKovNYkNMaz5/",
      "include_colab_link": true
    },
    "kernelspec": {
      "name": "python3",
      "display_name": "Python 3"
    },
    "language_info": {
      "name": "python"
    }
  },
  "cells": [
    {
      "cell_type": "markdown",
      "metadata": {
        "id": "view-in-github",
        "colab_type": "text"
      },
      "source": [
        "<a href=\"https://colab.research.google.com/github/aaryyya/Coursera_Python-Practice/blob/main/Dictionaries.ipynb\" target=\"_parent\"><img src=\"https://colab.research.google.com/assets/colab-badge.svg\" alt=\"Open In Colab\"/></a>"
      ]
    },
    {
      "cell_type": "code",
      "execution_count": 2,
      "metadata": {
        "colab": {
          "base_uri": "https://localhost:8080/"
        },
        "id": "0xEKbPxeU9BV",
        "outputId": "9b41cac3-09d4-42f9-815d-c73c8d4aabc6"
      },
      "outputs": [
        {
          "output_type": "stream",
          "name": "stdout",
          "text": [
            "John\n",
            "{'name': 'John', 'age': 30, 'city': 'Chicago', 'Country': 'USA'}\n",
            "Name exists in the dictionary.\n"
          ]
        }
      ],
      "source": [
        "dict_name = {} #Creates an empty dictionary\n",
        "person = { \"name\": \"John\",  \"age\": 30, \"city\": \"New York\"}\n",
        "# Value = dict_name[\"key_name\"]\n",
        "name = person[\"name\"]\n",
        "age = person[\"age\"]\n",
        "print(name)\n",
        "person[\"Country\"] = \"USA\" # A new entry will be created.\n",
        "person[\"city\"] = \"Chicago\"\n",
        "print(person)\n",
        "del person[\"Country\"]\n",
        "person.update({\"Profession\": \"Doctor\"})\n",
        "# grades.clear()\n",
        "if \"name\" in person:\n",
        "    print(\"Name exists in the dictionary.\")\n",
        "    new_person = person.copy()\n",
        "new_person = dict(person)\n",
        "person_keys = list(person.keys())\n",
        "person_values = list(person.values())\n",
        "info = list(person.items())\n",
        "\n",
        "\n"
      ]
    }
  ]
}